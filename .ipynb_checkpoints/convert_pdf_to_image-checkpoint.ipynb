{
 "cells": [
  {
   "cell_type": "markdown",
   "metadata": {},
   "source": [
    "In this notebook I present a code to convert multiple PDF files in image. The code includes a part that deals with PDF\n",
    "files that ask for pasword so all other PDF files are converted and the one that requires password are listed in a .txt file."
   ]
  },
  {
   "cell_type": "markdown",
   "metadata": {},
   "source": [
    "# Load packages"
   ]
  },
  {
   "cell_type": "code",
   "execution_count": 1,
   "metadata": {},
   "outputs": [],
   "source": [
    "from pdf2image import convert_from_path\n",
    "from pdf2image.exceptions import PDFInfoNotInstalledError, PDFPageCountError, PDFSyntaxError\n",
    "import glob\n",
    "import time\n",
    "\n",
    "TodaysDate = time.strftime(\"%Y-%m-%d\")"
   ]
  },
  {
   "cell_type": "markdown",
   "metadata": {},
   "source": [
    "# Function"
   ]
  },
  {
   "cell_type": "code",
   "execution_count": 2,
   "metadata": {},
   "outputs": [],
   "source": [
    "def convert_pdf2image(pdf_path, image_path, dpi):\n",
    "    \"\"\" \n",
    "    Converts a multi-page pdf file to image file given the path of the pdf file (pdf_path) and save images in image_path.\n",
    "    \n",
    "    Input:\n",
    "        pdf_path: path to PDF file to be converted in image\n",
    "        image_path: path to folder where resulting image will be saved\n",
    "        dpi: chosen resolution\n",
    "    \"\"\"\n",
    "    # convert pdf to image\n",
    "    images = convert_from_path(pdf_path, dpi, jpegopt = 'optimize', fmt = 'jpge')\n",
    "    # Extract name of pdf file to name image similarly\n",
    "    image_name = pdf_path.split('\\\\')[-1].split('.')[-2]\n",
    "    \n",
    "    # save all images generated from pdf file\n",
    "    for i, image in enumerate(images):\n",
    "        fname = image_path + image_name+\"_image_\" + str(i) + \".jpeg\"\n",
    "        image.save(fname, \"jpeg\")"
   ]
  },
  {
   "cell_type": "markdown",
   "metadata": {},
   "source": [
    "# Applying to one image"
   ]
  },
  {
   "cell_type": "code",
   "execution_count": 3,
   "metadata": {},
   "outputs": [],
   "source": [
    "pdf_path = './data/pdf\\Easy_recipes.pdf'\n",
    "image_path = './data/img/'\n",
    "dpi = 300\n",
    "convert_pdf2image(pdf_path, image_path, dpi)"
   ]
  },
  {
   "cell_type": "markdown",
   "metadata": {},
   "source": [
    "# Converting multiple images in a folder"
   ]
  },
  {
   "cell_type": "code",
   "execution_count": 4,
   "metadata": {},
   "outputs": [],
   "source": [
    "def convert_multiple_pdf(pdfs_folder, image_path, dpi, filename):\n",
    "    \"\"\" \n",
    "    Convert multiple PDF files in a folder to images.\n",
    "    \n",
    "    Input:\n",
    "        pdfs_folder: folder containing PDF files\n",
    "        image_path: image_path: path to folder where resulting image will be saved\n",
    "        dpi: chosen resolution\n",
    "        filename: name of the .txt file that keep name of files that required passwords and could not be converted\n",
    "        \n",
    "    \"\"\"\n",
    "\n",
    "    # starting counter of files converted\n",
    "    count = 0\n",
    "    #list to keep name of pdf files that require password\n",
    "    password_pdf = []\n",
    "\n",
    "    for pdf_path in glob.glob(pdfs_folder+'*.pdf'):\n",
    "        try:\n",
    "            convert_pdf2image(pdf_path, image_path, dpi)\n",
    "            count += 1\n",
    "        except PDFPageCountError:\n",
    "            password_pdf.append(pdf_path.split('\\\\')[-1])\n",
    "            pass    \n",
    "    \n",
    "        with open(pdfs_folder+filename+\"_\"+TodaysDate+\".txt\", \"w\") as output:\n",
    "            output.write(str('\\n'.join(password_pdf)))\n",
    "        \n",
    "    print(str(len(glob.glob(pdfs_folder+'*.pdf'))-count) + \" PDF files with password.\")\n",
    "    print(str(count) + \" files converted.\")\n"
   ]
  },
  {
   "cell_type": "code",
   "execution_count": 5,
   "metadata": {},
   "outputs": [
    {
     "name": "stdout",
     "output_type": "stream",
     "text": [
      "1 PDF files with password.\n",
      "3 files converted.\n"
     ]
    }
   ],
   "source": [
    "# folder with multiple pdf files\n",
    "pdfs_folder = './data/pdf/'\n",
    "\n",
    "# folder to save the resulting images\n",
    "image_path = './data/img/'\n",
    "\n",
    "dpi = 300\n",
    "\n",
    "filename = \"pdfs_require_password\"\n",
    "\n",
    "convert_multiple_pdf(pdfs_folder, image_path, dpi, filename)\n"
   ]
  }
 ],
 "metadata": {
  "kernelspec": {
   "display_name": "Python 3",
   "language": "python",
   "name": "python3"
  },
  "language_info": {
   "codemirror_mode": {
    "name": "ipython",
    "version": 3
   },
   "file_extension": ".py",
   "mimetype": "text/x-python",
   "name": "python",
   "nbconvert_exporter": "python",
   "pygments_lexer": "ipython3",
   "version": "3.6.7"
  },
  "toc": {
   "base_numbering": 1,
   "nav_menu": {},
   "number_sections": true,
   "sideBar": true,
   "skip_h1_title": false,
   "title_cell": "Table of Contents",
   "title_sidebar": "Contents",
   "toc_cell": false,
   "toc_position": {},
   "toc_section_display": true,
   "toc_window_display": false
  }
 },
 "nbformat": 4,
 "nbformat_minor": 4
}
